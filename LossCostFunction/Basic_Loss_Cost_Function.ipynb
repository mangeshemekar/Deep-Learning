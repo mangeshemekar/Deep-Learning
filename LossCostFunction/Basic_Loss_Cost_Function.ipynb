{
  "cells": [
    {
      "cell_type": "markdown",
      "metadata": {
        "id": "view-in-github",
        "colab_type": "text"
      },
      "source": [
        "<a href=\"https://colab.research.google.com/github/mangeshemekar/Deep-Learning/blob/main/LossCostFunction/Basic_Loss_Cost_Function.ipynb\" target=\"_parent\"><img src=\"https://colab.research.google.com/assets/colab-badge.svg\" alt=\"Open In Colab\"/></a>"
      ]
    },
    {
      "cell_type": "code",
      "execution_count": null,
      "id": "979c19f6-9905-4c07-b07c-17a142b33b46",
      "metadata": {
        "id": "979c19f6-9905-4c07-b07c-17a142b33b46"
      },
      "outputs": [],
      "source": [
        "import numpy as np"
      ]
    },
    {
      "cell_type": "code",
      "execution_count": null,
      "id": "71a5f1d6-9af2-49fa-9af5-9a06b762e329",
      "metadata": {
        "id": "71a5f1d6-9af2-49fa-9af5-9a06b762e329"
      },
      "outputs": [],
      "source": [
        "y_predicted = np.array([0,1,0,1,1,1,1,0,0,1])\n",
        "y_true = np.array([0.30,0.7,1,0,0.5,0.6,0.3,0.2,0.1,0.9])"
      ]
    },
    {
      "cell_type": "code",
      "execution_count": null,
      "id": "fcf69833-f7ab-4225-a569-b734ef26baa7",
      "metadata": {
        "id": "fcf69833-f7ab-4225-a569-b734ef26baa7"
      },
      "outputs": [],
      "source": [
        "def mae(y_predicted, y_true):\n",
        "    total_error = 0\n",
        "    for yp, yt in zip(y_predicted, y_true):\n",
        "        total_error += abs(yp - yt)\n",
        "    print(\"Total error is:\",total_error)\n",
        "    mae = total_error/len(y_predicted)\n",
        "    print(\"Mean absolute error is:\",mae)\n",
        "    return mae"
      ]
    },
    {
      "cell_type": "code",
      "execution_count": null,
      "id": "3d538e78-7012-4cd9-a8bb-b6669ea966cd",
      "metadata": {
        "id": "3d538e78-7012-4cd9-a8bb-b6669ea966cd",
        "outputId": "58444f43-9d87-4691-ec63-e02669c1372a"
      },
      "outputs": [
        {
          "name": "stdout",
          "output_type": "stream",
          "text": [
            "Total error is: 4.6\n",
            "Mean absolute error is: 0.45999999999999996\n"
          ]
        },
        {
          "data": {
            "text/plain": [
              "np.float64(0.45999999999999996)"
            ]
          },
          "execution_count": 4,
          "metadata": {},
          "output_type": "execute_result"
        }
      ],
      "source": [
        "mae(y_predicted, y_true)"
      ]
    },
    {
      "cell_type": "code",
      "execution_count": null,
      "id": "009391a0-d076-4bcf-9283-1e2204fb75af",
      "metadata": {
        "id": "009391a0-d076-4bcf-9283-1e2204fb75af",
        "outputId": "be1f94ad-f390-4905-83be-ff929e5a8d83"
      },
      "outputs": [
        {
          "data": {
            "text/plain": [
              "array([0.3, 0.3, 1. , 1. , 0.5, 0.4, 0.7, 0.2, 0.1, 0.1])"
            ]
          },
          "execution_count": 5,
          "metadata": {},
          "output_type": "execute_result"
        }
      ],
      "source": [
        "np.abs(y_predicted-y_true)"
      ]
    },
    {
      "cell_type": "code",
      "execution_count": null,
      "id": "62bea9b2-b4e9-40a5-a2f0-496f3ff23786",
      "metadata": {
        "id": "62bea9b2-b4e9-40a5-a2f0-496f3ff23786",
        "outputId": "4a14f5da-7965-49ad-9e04-485fc0a200f2"
      },
      "outputs": [
        {
          "data": {
            "text/plain": [
              "np.float64(0.45999999999999996)"
            ]
          },
          "execution_count": 6,
          "metadata": {},
          "output_type": "execute_result"
        }
      ],
      "source": [
        "np.mean(np.abs(y_predicted-y_true))"
      ]
    },
    {
      "cell_type": "code",
      "execution_count": null,
      "id": "8507ca7d-8737-4d47-b185-3b81f8fefbab",
      "metadata": {
        "id": "8507ca7d-8737-4d47-b185-3b81f8fefbab"
      },
      "outputs": [],
      "source": [
        "def mae_np(y_predicted, y_true):\n",
        "    return np.mean(np.abs(y_predicted-y_true))"
      ]
    },
    {
      "cell_type": "code",
      "execution_count": null,
      "id": "00634241-6bbc-4602-bed0-ce1502351f93",
      "metadata": {
        "id": "00634241-6bbc-4602-bed0-ce1502351f93",
        "outputId": "db57c9ca-825b-4cf4-d95d-fa17964ddc8b"
      },
      "outputs": [
        {
          "data": {
            "text/plain": [
              "np.float64(0.45999999999999996)"
            ]
          },
          "execution_count": 8,
          "metadata": {},
          "output_type": "execute_result"
        }
      ],
      "source": [
        "mae_np(y_predicted, y_true)"
      ]
    },
    {
      "cell_type": "raw",
      "id": "8ac90a58-3164-4a14-a69c-b4ebe08b251d",
      "metadata": {
        "id": "8ac90a58-3164-4a14-a69c-b4ebe08b251d"
      },
      "source": [
        "Implement Log Loss or Binary Cross Entropy"
      ]
    },
    {
      "cell_type": "code",
      "execution_count": null,
      "id": "870cbb57-915c-44f4-abc2-7b5a8947f3fb",
      "metadata": {
        "id": "870cbb57-915c-44f4-abc2-7b5a8947f3fb",
        "outputId": "69c29588-5965-40d0-e132-071bdabc0ff2"
      },
      "outputs": [
        {
          "name": "stderr",
          "output_type": "stream",
          "text": [
            "C:\\Users\\dhrsa\\AppData\\Local\\Temp\\ipykernel_4044\\262464415.py:1: RuntimeWarning: divide by zero encountered in log\n",
            "  np.log([0])\n"
          ]
        },
        {
          "data": {
            "text/plain": [
              "array([-inf])"
            ]
          },
          "execution_count": 9,
          "metadata": {},
          "output_type": "execute_result"
        }
      ],
      "source": [
        "np.log([0])"
      ]
    },
    {
      "cell_type": "code",
      "execution_count": null,
      "id": "77c10590-42c6-483c-b678-1760452efac0",
      "metadata": {
        "id": "77c10590-42c6-483c-b678-1760452efac0"
      },
      "outputs": [],
      "source": [
        "epsilon = 1e-15"
      ]
    },
    {
      "cell_type": "code",
      "execution_count": null,
      "id": "58e65f6b-5aa5-42d3-afdf-f864b90b0a4b",
      "metadata": {
        "id": "58e65f6b-5aa5-42d3-afdf-f864b90b0a4b",
        "outputId": "02a6805d-eee3-4a75-b723-a4831096f19f"
      },
      "outputs": [
        {
          "data": {
            "text/plain": [
              "array([-34.53877639])"
            ]
          },
          "execution_count": 11,
          "metadata": {},
          "output_type": "execute_result"
        }
      ],
      "source": [
        "np.log([1e-15])"
      ]
    },
    {
      "cell_type": "code",
      "execution_count": null,
      "id": "550bd4a5-584e-472e-9af2-55e2a646e668",
      "metadata": {
        "id": "550bd4a5-584e-472e-9af2-55e2a646e668",
        "outputId": "0b9344c6-0424-4e17-cbec-689c4117c85a"
      },
      "outputs": [
        {
          "data": {
            "text/plain": [
              "array([0, 1, 0, 1, 1, 1, 1, 0, 0, 1])"
            ]
          },
          "execution_count": 12,
          "metadata": {},
          "output_type": "execute_result"
        }
      ],
      "source": [
        "y_predicted"
      ]
    },
    {
      "cell_type": "code",
      "execution_count": null,
      "id": "1006315d-7172-48d5-b349-725393be526e",
      "metadata": {
        "id": "1006315d-7172-48d5-b349-725393be526e",
        "outputId": "4abd799a-c80a-447a-a48e-1097817a8402"
      },
      "outputs": [
        {
          "data": {
            "text/plain": [
              "[1e-15,\n",
              " np.int64(1),\n",
              " 1e-15,\n",
              " np.int64(1),\n",
              " np.int64(1),\n",
              " np.int64(1),\n",
              " np.int64(1),\n",
              " 1e-15,\n",
              " 1e-15,\n",
              " np.int64(1)]"
            ]
          },
          "execution_count": 13,
          "metadata": {},
          "output_type": "execute_result"
        }
      ],
      "source": [
        "y_predicted_new = [max(i,epsilon) for i in y_predicted]\n",
        "y_predicted_new"
      ]
    },
    {
      "cell_type": "code",
      "execution_count": null,
      "id": "504aa396-14ad-4557-9124-fc6321c3fe21",
      "metadata": {
        "id": "504aa396-14ad-4557-9124-fc6321c3fe21",
        "outputId": "6464e13e-5cd2-496c-b9c7-a66269da84aa"
      },
      "outputs": [
        {
          "data": {
            "text/plain": [
              "0.999999999999999"
            ]
          },
          "execution_count": 14,
          "metadata": {},
          "output_type": "execute_result"
        }
      ],
      "source": [
        "1-epsilon"
      ]
    },
    {
      "cell_type": "code",
      "execution_count": null,
      "id": "b2d8ce77-ef96-45c2-9fef-04afe692f738",
      "metadata": {
        "id": "b2d8ce77-ef96-45c2-9fef-04afe692f738",
        "outputId": "0eb10d81-af7e-496e-e737-0a5a78b4ab4e"
      },
      "outputs": [
        {
          "data": {
            "text/plain": [
              "[1e-15,\n",
              " 0.999999999999999,\n",
              " 1e-15,\n",
              " 0.999999999999999,\n",
              " 0.999999999999999,\n",
              " 0.999999999999999,\n",
              " 0.999999999999999,\n",
              " 1e-15,\n",
              " 1e-15,\n",
              " 0.999999999999999]"
            ]
          },
          "execution_count": 15,
          "metadata": {},
          "output_type": "execute_result"
        }
      ],
      "source": [
        "y_predicted_new = [min(i,1-epsilon) for i in y_predicted_new]\n",
        "y_predicted_new"
      ]
    },
    {
      "cell_type": "code",
      "execution_count": null,
      "id": "d0480bb2-436e-4e79-9baa-d1eeae04c989",
      "metadata": {
        "id": "d0480bb2-436e-4e79-9baa-d1eeae04c989"
      },
      "outputs": [],
      "source": [
        "y_predicted_new = np.array(y_predicted_new)"
      ]
    },
    {
      "cell_type": "code",
      "execution_count": null,
      "id": "08035697-27da-4891-8a9b-dbc3f4f163c9",
      "metadata": {
        "id": "08035697-27da-4891-8a9b-dbc3f4f163c9",
        "outputId": "742a2b97-51d2-43ae-c17a-f95033ff2d52"
      },
      "outputs": [
        {
          "data": {
            "text/plain": [
              "array([-3.45387764e+01, -9.99200722e-16, -3.45387764e+01, -9.99200722e-16,\n",
              "       -9.99200722e-16, -9.99200722e-16, -9.99200722e-16, -3.45387764e+01,\n",
              "       -3.45387764e+01, -9.99200722e-16])"
            ]
          },
          "execution_count": 17,
          "metadata": {},
          "output_type": "execute_result"
        }
      ],
      "source": [
        "np.log(y_predicted_new)"
      ]
    },
    {
      "cell_type": "code",
      "execution_count": null,
      "id": "7501b82e-a8e2-43d6-b891-414a1aaf500f",
      "metadata": {
        "id": "7501b82e-a8e2-43d6-b891-414a1aaf500f",
        "outputId": "bd9d9ee2-cd51-4eb6-874b-e64554ab662d"
      },
      "outputs": [
        {
          "data": {
            "text/plain": [
              "np.float64(15.888077020887973)"
            ]
          },
          "execution_count": 18,
          "metadata": {},
          "output_type": "execute_result"
        }
      ],
      "source": [
        "-np.mean(y_true*np.log(y_predicted_new)+(1-y_true)*np.log(1-y_predicted_new))"
      ]
    },
    {
      "cell_type": "code",
      "execution_count": null,
      "id": "7af1a1de-3510-4214-a3c2-0c89ac654816",
      "metadata": {
        "id": "7af1a1de-3510-4214-a3c2-0c89ac654816"
      },
      "outputs": [],
      "source": [
        "def log_loss(y_true, y_predicted):\n",
        "    y_predicted_new = [max(i,epsilon) for i in y_predicted]\n",
        "    y_predicted_new = [min(i,1-epsilon) for i in y_predicted_new]\n",
        "    y_predicted_new = np.array(y_predicted_new)\n",
        "    return -np.mean(y_true*np.log(y_predicted_new)+(1-y_true)*np.log(1-y_predicted_new))"
      ]
    },
    {
      "cell_type": "code",
      "execution_count": null,
      "id": "6621aae4-0f23-465d-bc7c-16fa46624598",
      "metadata": {
        "id": "6621aae4-0f23-465d-bc7c-16fa46624598",
        "outputId": "89d09751-fe70-46b2-af3e-8131ef620214"
      },
      "outputs": [
        {
          "data": {
            "text/plain": [
              "np.float64(15.888077020887973)"
            ]
          },
          "execution_count": 20,
          "metadata": {},
          "output_type": "execute_result"
        }
      ],
      "source": [
        "log_loss(y_true, y_predicted)"
      ]
    },
    {
      "cell_type": "raw",
      "id": "7d1b8d6f-f074-4aa2-bcd7-b12613654859",
      "metadata": {
        "id": "7d1b8d6f-f074-4aa2-bcd7-b12613654859"
      },
      "source": [
        "Exercise 3\n",
        "Implement mean squared error (or MSE) in two ways,\n",
        "\n",
        "Without using numpy (i.e. using plain python)\n",
        "\n",
        "With the use of numpy"
      ]
    },
    {
      "cell_type": "code",
      "execution_count": null,
      "id": "d2395246-637d-402a-9f21-2bc399ae7a6b",
      "metadata": {
        "id": "d2395246-637d-402a-9f21-2bc399ae7a6b",
        "outputId": "6cca2182-6a2d-4663-c1cb-60a73ac69ac5"
      },
      "outputs": [
        {
          "name": "stdout",
          "output_type": "stream",
          "text": [
            "0.31399999999999995\n"
          ]
        }
      ],
      "source": [
        "#Without Numpy\n",
        "def mse(y_predicted, y_true):\n",
        "    total_error = 0\n",
        "    for yp, yt in zip(y_predicted, y_true):\n",
        "        total_error += (yp - yt) ** 2\n",
        "    mse_value = total_error / len(y_predicted)\n",
        "    return mse_value\n",
        "\n",
        "print(mse(y_predicted, y_true))"
      ]
    },
    {
      "cell_type": "code",
      "execution_count": null,
      "id": "9ee9fe8d",
      "metadata": {
        "id": "9ee9fe8d",
        "outputId": "d96ba01c-b1f9-4a5d-8241-2f2d3b9b5dd6"
      },
      "outputs": [
        {
          "name": "stdout",
          "output_type": "stream",
          "text": [
            "0.31399999999999995\n"
          ]
        }
      ],
      "source": [
        "#With Numpy\n",
        "def mse_np(y_predicted, y_true):\n",
        "    return np.mean((y_predicted - y_true) ** 2)\n",
        "\n",
        "print(mse_np(y_predicted, y_true))"
      ]
    }
  ],
  "metadata": {
    "kernelspec": {
      "display_name": "myenv",
      "language": "python",
      "name": "python3"
    },
    "language_info": {
      "codemirror_mode": {
        "name": "ipython",
        "version": 3
      },
      "file_extension": ".py",
      "mimetype": "text/x-python",
      "name": "python",
      "nbconvert_exporter": "python",
      "pygments_lexer": "ipython3",
      "version": "3.12.9"
    },
    "colab": {
      "provenance": [],
      "include_colab_link": true
    }
  },
  "nbformat": 4,
  "nbformat_minor": 5
}